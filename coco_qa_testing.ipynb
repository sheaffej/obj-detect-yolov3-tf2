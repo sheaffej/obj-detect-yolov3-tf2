{
 "cells": [
  {
   "cell_type": "markdown",
   "metadata": {},
   "source": [
    "### This notebook is useful to QA test the high-level API functions when making modifications to the lower-level functions"
   ]
  },
  {
   "cell_type": "markdown",
   "metadata": {},
   "source": [
    "# Train"
   ]
  },
  {
   "cell_type": "code",
   "execution_count": null,
   "metadata": {},
   "outputs": [],
   "source": [
    "from yolov3_tf2 import run\n",
    "\n",
    "model, history = run.train(\n",
    "    dataset_glob='/app/data/voc_train.tfrecord',\n",
    "    val_dataset_glob='/app/data/voc_val.tfrecord',\n",
    "    classes_path='/app/data/coco.names',\n",
    "    checkpoints_path='/tmp',\n",
    "    checkpoints_prefix='qa_train_voc2012',\n",
    "    num_classes=80,\n",
    "    train_mode='fit',\n",
    "    transfer='darknet',\n",
    "    batch_size=1,\n",
    "    input_batch_limit=5,\n",
    "    epochs=2,\n",
    "    weights='/app/checkpoints/yolov3.tf',\n",
    "    weights_num_classes=80\n",
    ")"
   ]
  },
  {
   "cell_type": "markdown",
   "metadata": {},
   "source": [
    "# Detect"
   ]
  },
  {
   "cell_type": "code",
   "execution_count": null,
   "metadata": {},
   "outputs": [],
   "source": [
    "# Detect image\n",
    "from yolov3_tf2 import run\n",
    "\n",
    "# boxes, scores, classes, nums = run.detect(\n",
    "run.detect_summary(\n",
    "    image='/app/data/meme.jpg',\n",
    "    num_classes=80,\n",
    "    weights='/app/checkpoints/yolov3.tf',\n",
    "    classes_file='/app/data/coco.names',\n",
    "    output='/app/output.jpg'\n",
    ")\n",
    "from IPython.display import Image\n",
    "Image(filename='/app/output.jpg')"
   ]
  },
  {
   "cell_type": "markdown",
   "metadata": {},
   "source": [
    "# Evaluate"
   ]
  },
  {
   "cell_type": "code",
   "execution_count": null,
   "metadata": {},
   "outputs": [],
   "source": [
    "from yolov3_tf2 import run\n",
    "\n",
    "results = run.evaluate(\n",
    "    test_dataset_glob='/app/data/voc_val.tfrecord',\n",
    "    num_classes=20,\n",
    "    weights_file='/app/checkpoints/yolov3.tf',\n",
    "    weights_num_classes=80,\n",
    "    classes_file='/app/data/voc2012.names',\n",
    "    # anchors=None,\n",
    "    # anchor_masks=None,\n",
    "    batch_size=1,\n",
    "    input_batch_limit=10,\n",
    "    # image_size=416,\n",
    "    # train_mode='fit',\n",
    "    # learning_rate=0.001,\n",
    "    # transfer='darknet',\n",
    "    # tiny=False,\n",
    "    print_result=True\n",
    ")"
   ]
  },
  {
   "cell_type": "code",
   "execution_count": null,
   "metadata": {},
   "outputs": [],
   "source": []
  }
 ],
 "metadata": {
  "kernelspec": {
   "display_name": "Python 3.8.13 64-bit",
   "language": "python",
   "name": "python3"
  },
  "language_info": {
   "codemirror_mode": {
    "name": "ipython",
    "version": 3
   },
   "file_extension": ".py",
   "mimetype": "text/x-python",
   "name": "python",
   "nbconvert_exporter": "python",
   "pygments_lexer": "ipython3",
   "version": "3.8.13"
  },
  "orig_nbformat": 4,
  "vscode": {
   "interpreter": {
    "hash": "949777d72b0d2535278d3dc13498b2535136f6dfe0678499012e853ee9abcab1"
   }
  }
 },
 "nbformat": 4,
 "nbformat_minor": 2
}
